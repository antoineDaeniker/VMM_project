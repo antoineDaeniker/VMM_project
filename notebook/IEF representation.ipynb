{
 "cells": [
  {
   "cell_type": "code",
   "execution_count": 2,
   "id": "standing-intermediate",
   "metadata": {},
   "outputs": [],
   "source": [
    "import matplotlib.pyplot as plt\n",
    "%matplotlib inline\n",
    "\n",
    "import torch as th"
   ]
  },
  {
   "cell_type": "code",
   "execution_count": 3,
   "id": "otherwise-rough",
   "metadata": {},
   "outputs": [],
   "source": [
    "from lib.functional.generate_heatmaps import GenerateHeatmaps"
   ]
  },
  {
   "cell_type": "code",
   "execution_count": 18,
   "id": "associate-price",
   "metadata": {},
   "outputs": [],
   "source": [
    "device = 'cpu'\n",
    "# device = 'cuda:0'\n",
    "\n",
    "device = th.device(device)\n",
    "th.manual_seed(2)\n",
    "batch_size = 1\n",
    "num_joints = 3\n",
    "\n",
    "image_size = 256\n",
    "heatmap_size = 64\n",
    "sigma = 5\n",
    "\n",
    "joints = th.tensor([[[45, 145], [80, 95], [150, 105]]], dtype=th.float32)\n",
    "\n",
    "joints = joints.to(device)\n",
    "joints_mask = th.ones(batch_size, num_joints, dtype=th.bool) # visibility mask"
   ]
  },
  {
   "cell_type": "code",
   "execution_count": 19,
   "id": "incomplete-ground",
   "metadata": {},
   "outputs": [],
   "source": [
    "gen_hmaps = GenerateHeatmaps(image_size=(image_size, image_size),\n",
    "                             heatmap_size=(heatmap_size, heatmap_size), sigma=sigma)"
   ]
  },
  {
   "cell_type": "code",
   "execution_count": 20,
   "id": "statutory-duncan",
   "metadata": {},
   "outputs": [],
   "source": [
    "heatmaps = gen_hmaps(joints, joints_mask)"
   ]
  },
  {
   "cell_type": "code",
   "execution_count": 21,
   "id": "seventh-sensitivity",
   "metadata": {},
   "outputs": [],
   "source": [
    "joints_, heatmaps_ = joints[0].detach().cpu(), heatmaps[0].detach().cpu()"
   ]
  },
  {
   "cell_type": "code",
   "execution_count": 67,
   "id": "weird-savings",
   "metadata": {},
   "outputs": [],
   "source": [
    "init_pos = th.tensor([[85, 170], [170, 170], [128, 85]], dtype=th.float32)"
   ]
  },
  {
   "cell_type": "code",
   "execution_count": 68,
   "id": "answering-richmond",
   "metadata": {},
   "outputs": [
    {
     "data": {
      "text/plain": [
       "<matplotlib.collections.PathCollection at 0x7ff16ef74590>"
      ]
     },
     "execution_count": 68,
     "metadata": {},
     "output_type": "execute_result"
    },
    {
     "data": {
      "image/png": "[encoded data removed]",
      "text/plain": [
       "<Figure size 432x288 with 1 Axes>"
      ]
     },
     "metadata": {
      "needs_background": "light"
     },
     "output_type": "display_data"
    }
   ],
   "source": [
    "plt.scatter(init_pos[0,0], init_pos[0,1], c='red')\n",
    "plt.scatter(init_pos[1,0], init_pos[1,1], c='blue')\n",
    "plt.scatter(init_pos[2,0], init_pos[2,1], c='green')"
   ]
  },
  {
   "cell_type": "code",
   "execution_count": 58,
   "id": "harmful-fashion",
   "metadata": {},
   "outputs": [
    {
     "data": {
      "text/plain": [
       "torch.Size([64, 64, 3])"
      ]
     },
     "execution_count": 58,
     "metadata": {},
     "output_type": "execute_result"
    }
   ],
   "source": [
    "im = th.cat((heatmaps_[0].unsqueeze(-1), th.cat((heatmaps_[1].unsqueeze(-1), heatmaps_[2].unsqueeze(-1)), -1)), -1)\n",
    "im.shape"
   ]
  },
  {
   "cell_type": "code",
   "execution_count": 64,
   "id": "relevant-cradle",
   "metadata": {},
   "outputs": [
    {
     "name": "stderr",
     "output_type": "stream",
     "text": [
      "Clipping input data to the valid range for imshow with RGB data ([0..1] for floats or [0..255] for integers).\n"
     ]
    },
    {
     "data": {
      "text/plain": [
       "<matplotlib.image.AxesImage at 0x7ff16f0f13d0>"
      ]
     },
     "execution_count": 64,
     "metadata": {},
     "output_type": "execute_result"
    },
    {
     "data": {
      "image/png": "[encoded data removed]",
      "text/plain": [
       "<Figure size 432x288 with 1 Axes>"
      ]
     },
     "metadata": {
      "needs_background": "light"
     },
     "output_type": "display_data"
    }
   ],
   "source": [
    "plt.imshow(im*170)"
   ]
  },
  {
   "cell_type": "code",
   "execution_count": 50,
   "id": "answering-north",
   "metadata": {},
   "outputs": [
    {
     "data": {
      "image/png": "[encoded data removed]",
      "text/plain": [
       "<Figure size 432x288 with 1 Axes>"
      ]
     },
     "metadata": {
      "needs_background": "light"
     },
     "output_type": "display_data"
    }
   ],
   "source": [
    "im1 = plt.imshow(heatmaps_[0], alpha=0.33, cmap='Reds')\n",
    "im2 = plt.imshow(heatmaps_[1], alpha=0.33, cmap='Greens')\n",
    "im3 = plt.imshow(heatmaps_[2], alpha=0.33, cmap='Blues')\n",
    "plt.show()"
   ]
  },
  {
   "cell_type": "code",
   "execution_count": null,
   "id": "saved-accounting",
   "metadata": {},
   "outputs": [],
   "source": []
  }
 ],
 "metadata": {
  "kernelspec": {
   "display_name": "Python 3",
   "language": "python",
   "name": "python3"
  },
  "language_info": {
   "codemirror_mode": {
    "name": "ipython",
    "version": 3
   },
   "file_extension": ".py",
   "mimetype": "text/x-python",
   "name": "python",
   "nbconvert_exporter": "python",
   "pygments_lexer": "ipython3",
   "version": "3.7.9"
  }
 },
 "nbformat": 4,
 "nbformat_minor": 5
}
